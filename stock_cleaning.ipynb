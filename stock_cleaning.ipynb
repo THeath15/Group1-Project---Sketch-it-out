{
 "cells": [
  {
   "cell_type": "code",
   "execution_count": 10,
   "id": "c05b7d90",
   "metadata": {},
   "outputs": [],
   "source": [
    "import pandas as pd\n",
    "import os"
   ]
  },
  {
   "cell_type": "code",
   "execution_count": 11,
   "id": "62b7a0dc",
   "metadata": {},
   "outputs": [],
   "source": [
    "dow_jones_path = os.path.join('Resources', 'DowJones.csv')\n",
    "nasdaq_path = os.path.join('Resources', 'Nasdaq.csv')\n",
    "sp500_path = os.path.join('Resources', 'SP500.csv')"
   ]
  },
  {
   "cell_type": "code",
   "execution_count": 15,
   "id": "531c1c74",
   "metadata": {},
   "outputs": [],
   "source": [
    "dow_jones_df = pd.read_csv(dow_jones_path)\n",
    "nasdaq_df = pd.read_csv(nasdaq_path)\n",
    "sp500_df = pd.read_csv(sp500_path)"
   ]
  },
  {
   "cell_type": "code",
   "execution_count": 19,
   "id": "c98c1502",
   "metadata": {},
   "outputs": [],
   "source": [
    "dow_jones_df.Date = pd.to_datetime(dow_jones_df.Date)\n",
    "nasdaq_df.Date = pd.to_datetime(nasdaq_df.Date)\n",
    "sp500_df.Date = pd.to_datetime(sp500_df.Date)"
   ]
  },
  {
   "cell_type": "code",
   "execution_count": 20,
   "id": "750425fc",
   "metadata": {},
   "outputs": [],
   "source": [
    "dow_jones_df = dow_jones_df.rename(columns = {'Value': 'Dow_Jones'})\n",
    "nasdaq_df = nasdaq_df.rename(columns = {'Value': 'NASDAQ'})\n",
    "sp500_df = sp500_df.rename(columns = {'Value': 'S&P_500'})"
   ]
  },
  {
   "cell_type": "code",
   "execution_count": 21,
   "id": "003f4fa4",
   "metadata": {},
   "outputs": [],
   "source": [
    "combined_df = sp500_df.merge(nasdaq_df, how = 'outer', on = 'Date')\\\n",
    "              .merge(dow_jones_df, how = 'outer', on = 'Date')"
   ]
  },
  {
   "cell_type": "code",
   "execution_count": 22,
   "id": "ab7d5d33",
   "metadata": {},
   "outputs": [
    {
     "data": {
      "text/html": [
       "<div>\n",
       "<style scoped>\n",
       "    .dataframe tbody tr th:only-of-type {\n",
       "        vertical-align: middle;\n",
       "    }\n",
       "\n",
       "    .dataframe tbody tr th {\n",
       "        vertical-align: top;\n",
       "    }\n",
       "\n",
       "    .dataframe thead th {\n",
       "        text-align: right;\n",
       "    }\n",
       "</style>\n",
       "<table border=\"1\" class=\"dataframe\">\n",
       "  <thead>\n",
       "    <tr style=\"text-align: right;\">\n",
       "      <th></th>\n",
       "      <th>Date</th>\n",
       "      <th>S&amp;P_500</th>\n",
       "      <th>NASDAQ</th>\n",
       "      <th>Dow_Jones</th>\n",
       "    </tr>\n",
       "  </thead>\n",
       "  <tbody>\n",
       "    <tr>\n",
       "      <th>1151</th>\n",
       "      <td>1999-09-24</td>\n",
       "      <td>1277.36</td>\n",
       "      <td>NaN</td>\n",
       "      <td>NaN</td>\n",
       "    </tr>\n",
       "    <tr>\n",
       "      <th>1254</th>\n",
       "      <td>2001-09-11</td>\n",
       "      <td>1092.54</td>\n",
       "      <td>1695.37</td>\n",
       "      <td>NaN</td>\n",
       "    </tr>\n",
       "    <tr>\n",
       "      <th>1346</th>\n",
       "      <td>2003-06-19</td>\n",
       "      <td>994.70</td>\n",
       "      <td>NaN</td>\n",
       "      <td>NaN</td>\n",
       "    </tr>\n",
       "    <tr>\n",
       "      <th>1388</th>\n",
       "      <td>2004-04-08</td>\n",
       "      <td>1139.32</td>\n",
       "      <td>2052.88</td>\n",
       "      <td>NaN</td>\n",
       "    </tr>\n",
       "    <tr>\n",
       "      <th>1649</th>\n",
       "      <td>2009-04-09</td>\n",
       "      <td>856.56</td>\n",
       "      <td>NaN</td>\n",
       "      <td>NaN</td>\n",
       "    </tr>\n",
       "    <tr>\n",
       "      <th>2084</th>\n",
       "      <td>1999-09-23</td>\n",
       "      <td>NaN</td>\n",
       "      <td>2749.83</td>\n",
       "      <td>10318.59</td>\n",
       "    </tr>\n",
       "    <tr>\n",
       "      <th>2085</th>\n",
       "      <td>2003-06-20</td>\n",
       "      <td>NaN</td>\n",
       "      <td>1644.72</td>\n",
       "      <td>9200.75</td>\n",
       "    </tr>\n",
       "    <tr>\n",
       "      <th>2086</th>\n",
       "      <td>2001-09-10</td>\n",
       "      <td>NaN</td>\n",
       "      <td>NaN</td>\n",
       "      <td>9605.51</td>\n",
       "    </tr>\n",
       "  </tbody>\n",
       "</table>\n",
       "</div>"
      ],
      "text/plain": [
       "           Date  S&P_500   NASDAQ  Dow_Jones\n",
       "1151 1999-09-24  1277.36      NaN        NaN\n",
       "1254 2001-09-11  1092.54  1695.37        NaN\n",
       "1346 2003-06-19   994.70      NaN        NaN\n",
       "1388 2004-04-08  1139.32  2052.88        NaN\n",
       "1649 2009-04-09   856.56      NaN        NaN\n",
       "2084 1999-09-23      NaN  2749.83   10318.59\n",
       "2085 2003-06-20      NaN  1644.72    9200.75\n",
       "2086 2001-09-10      NaN      NaN    9605.51"
      ]
     },
     "execution_count": 22,
     "metadata": {},
     "output_type": "execute_result"
    }
   ],
   "source": [
    "combined_df[combined_df.isna().any(axis = 1)]"
   ]
  },
  {
   "cell_type": "code",
   "execution_count": 23,
   "id": "11f5a9a9",
   "metadata": {},
   "outputs": [
    {
     "data": {
      "text/plain": [
       "1977-09-02    1\n",
       "2004-07-16    1\n",
       "2004-07-02    1\n",
       "2004-06-25    1\n",
       "2004-06-18    1\n",
       "             ..\n",
       "1990-11-30    1\n",
       "1990-11-23    1\n",
       "1990-11-16    1\n",
       "1990-11-09    1\n",
       "2001-09-10    1\n",
       "Name: Date, Length: 2087, dtype: int64"
      ]
     },
     "execution_count": 23,
     "metadata": {},
     "output_type": "execute_result"
    }
   ],
   "source": [
    "combined_df.Date.value_counts()"
   ]
  },
  {
   "cell_type": "code",
   "execution_count": 24,
   "id": "48ceffb8",
   "metadata": {},
   "outputs": [],
   "source": [
    "path = os.path.join('Resources', 'joined_stocks.csv')\n",
    "combined_df.to_csv(path, index = False)"
   ]
  },
  {
   "cell_type": "code",
   "execution_count": null,
   "id": "7940ae2f",
   "metadata": {},
   "outputs": [],
   "source": []
  }
 ],
 "metadata": {
  "kernelspec": {
   "display_name": "mlenv",
   "language": "python",
   "name": "mlenv"
  },
  "language_info": {
   "codemirror_mode": {
    "name": "ipython",
    "version": 3
   },
   "file_extension": ".py",
   "mimetype": "text/x-python",
   "name": "python",
   "nbconvert_exporter": "python",
   "pygments_lexer": "ipython3",
   "version": "3.7.12"
  }
 },
 "nbformat": 4,
 "nbformat_minor": 5
}
