{
 "cells": [
  {
   "cell_type": "code",
   "execution_count": 1,
   "id": "c05b7d90",
   "metadata": {},
   "outputs": [],
   "source": [
    "import pandas as pd\n",
    "import os\n",
    "from sqlalchemy import create_engine\n",
    "import psycopg2"
   ]
  },
  {
   "cell_type": "code",
   "execution_count": 2,
   "id": "62b7a0dc",
   "metadata": {},
   "outputs": [],
   "source": [
    "# create filepaths\n",
    "dow_jones_path = os.path.join('Resources', 'DowJones.csv')\n",
    "nasdaq_path = os.path.join('Resources', 'Nasdaq.csv')\n",
    "sp500_path = os.path.join('Resources', 'SP500.csv')"
   ]
  },
  {
   "cell_type": "code",
   "execution_count": 3,
   "id": "531c1c74",
   "metadata": {},
   "outputs": [],
   "source": [
    "# read in files\n",
    "dow_jones_df = pd.read_csv(dow_jones_path)\n",
    "nasdaq_df = pd.read_csv(nasdaq_path)\n",
    "sp500_df = pd.read_csv(sp500_path)"
   ]
  },
  {
   "cell_type": "code",
   "execution_count": 4,
   "id": "78c9eb3f",
   "metadata": {},
   "outputs": [],
   "source": [
    "# added to prevent merge error later on\n",
    "dow_jones_df.Date = pd.to_datetime(dow_jones_df.Date)\n",
    "nasdaq_df.Date = pd.to_datetime(nasdaq_df.Date)\n",
    "sp500_df.Date = pd.to_datetime(sp500_df.Date)"
   ]
  },
  {
   "cell_type": "code",
   "execution_count": 5,
   "id": "750425fc",
   "metadata": {},
   "outputs": [],
   "source": [
    "# rename columns\n",
    "dow_jones_df = dow_jones_df.rename(columns = {'Value': 'Dow_Jones'})\n",
    "nasdaq_df = nasdaq_df.rename(columns = {'Value': 'NASDAQ'})\n",
    "sp500_df = sp500_df.rename(columns = {'Value': 'S&P_500'})"
   ]
  },
  {
   "cell_type": "code",
   "execution_count": 6,
   "id": "51e0e822",
   "metadata": {},
   "outputs": [],
   "source": [
    "# connect to database\n",
    "from config import username, pwd\n",
    "from db_config import endpoint, port, db_name\n",
    "db_url = f'postgresql://{username}:{pwd}@{endpoint}:{port}/{db_name}'\n",
    "engine = create_engine(db_url)\n",
    "conn = engine.connect()"
   ]
  },
  {
   "cell_type": "code",
   "execution_count": 7,
   "id": "2b14aba2",
   "metadata": {},
   "outputs": [],
   "source": [
    "# upload to database\n",
    "dow_jones_df.to_sql(name = 'dow_jones', con = engine, if_exists = 'replace', index = False)\n",
    "nasdaq_df.to_sql(name = 'nasdaq', con = engine, if_exists = 'replace', index = False)\n",
    "sp500_df.to_sql(name = 'sp_500', con = engine, if_exists = 'replace', index = False)"
   ]
  },
  {
   "cell_type": "code",
   "execution_count": 8,
   "id": "7b1300cc",
   "metadata": {},
   "outputs": [],
   "source": [
    "# SQL join query\n",
    "query = '''select coalesce(s.\"Date\", n.\"Date\", d.\"Date\") as \"Date\", \"S&P_500\", \"NASDAQ\", \"Dow_Jones\"\n",
    "from sp_500 s\n",
    "full outer join nasdaq n\n",
    "on s.\"Date\" = n.\"Date\"\n",
    "full outer join dow_jones d\n",
    "on s.\"Date\" = d.\"Date\"'''\n",
    "\n",
    "# create dataframe by reading from database\n",
    "combined_df = pd.read_sql(query, con = conn)\n",
    "\n",
    "# write to database\n",
    "combined_df.to_sql('joined_stocks', con = engine, if_exists = 'replace', index = False)\n",
    "\n",
    "# close connection\n",
    "conn.close()"
   ]
  },
  {
   "cell_type": "code",
   "execution_count": 9,
   "id": "48ceffb8",
   "metadata": {},
   "outputs": [],
   "source": [
    "# export locally\n",
    "path = os.path.join('Resources', 'joined_stocks.csv')\n",
    "combined_df.to_csv(path, index = False)"
   ]
  }
 ],
 "metadata": {
  "kernelspec": {
   "display_name": "mlenv",
   "language": "python",
   "name": "mlenv"
  },
  "language_info": {
   "codemirror_mode": {
    "name": "ipython",
    "version": 3
   },
   "file_extension": ".py",
   "mimetype": "text/x-python",
   "name": "python",
   "nbconvert_exporter": "python",
   "pygments_lexer": "ipython3",
   "version": "3.7.12"
  }
 },
 "nbformat": 4,
 "nbformat_minor": 5
}
