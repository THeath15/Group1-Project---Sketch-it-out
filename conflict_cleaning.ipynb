{
 "cells": [
  {
   "cell_type": "code",
   "execution_count": 24,
   "id": "1e0c2b6d",
   "metadata": {},
   "outputs": [],
   "source": [
    "import pandas as pd\n",
    "import os"
   ]
  },
  {
   "cell_type": "code",
   "execution_count": 25,
   "id": "e698e242",
   "metadata": {},
   "outputs": [],
   "source": [
    "path = os.path.join('Resources','War_dataset.xlsx')\n",
    "conflict_df = pd.read_excel(path, header = 1)"
   ]
  },
  {
   "cell_type": "code",
   "execution_count": 26,
   "id": "5af422cd",
   "metadata": {},
   "outputs": [],
   "source": [
    "# List of columns to drop from the war_df\n",
    "drop_columns = [\n",
    "    'conflict_id',\n",
    "    'year',\n",
    "    'side_a_id',\n",
    "    'side_b_id',\n",
    "    'gwno_a',\n",
    "    'gwno_a_2nd',\n",
    "    'gwno_b',\n",
    "    'gwno_b_2nd',\n",
    "    'gwno_loc',\n",
    "    'start_prec',\n",
    "    'version',\n",
    "    'intensity_level',\n",
    "    'start_date2',\n",
    "    'start_prec2',\n",
    "    'ep_end_prec'\n",
    "]"
   ]
  },
  {
   "cell_type": "code",
   "execution_count": 27,
   "id": "bc78eecc",
   "metadata": {},
   "outputs": [],
   "source": [
    "conflict_df_dropped = conflict_df.drop(columns = drop_columns)"
   ]
  },
  {
   "cell_type": "code",
   "execution_count": 28,
   "id": "f226937c",
   "metadata": {},
   "outputs": [
    {
     "data": {
      "text/plain": [
       "Index(['location', 'side_a', 'side_a_2nd', 'side_b', 'side_b_2nd',\n",
       "       'incompatibility', 'territory_name', 'cumulative_intensity',\n",
       "       'type_of_conflict', 'start_date', 'ep_end', 'ep_end_date', 'region'],\n",
       "      dtype='object')"
      ]
     },
     "execution_count": 28,
     "metadata": {},
     "output_type": "execute_result"
    }
   ],
   "source": [
    "conflict_df_dropped.columns"
   ]
  },
  {
   "cell_type": "code",
   "execution_count": 29,
   "id": "167fdcea",
   "metadata": {},
   "outputs": [
    {
     "data": {
      "text/plain": [
       "location                        object\n",
       "side_a                          object\n",
       "side_a_2nd                      object\n",
       "side_b                          object\n",
       "side_b_2nd                      object\n",
       "incompatibility                  int64\n",
       "territory_name                  object\n",
       "cumulative_intensity             int64\n",
       "type_of_conflict                 int64\n",
       "start_date              datetime64[ns]\n",
       "ep_end                           int64\n",
       "ep_end_date             datetime64[ns]\n",
       "region                          object\n",
       "dtype: object"
      ]
     },
     "execution_count": 29,
     "metadata": {},
     "output_type": "execute_result"
    }
   ],
   "source": [
    "conflict_df_dropped.dtypes"
   ]
  },
  {
   "cell_type": "code",
   "execution_count": 30,
   "id": "4b2cbdd5",
   "metadata": {},
   "outputs": [
    {
     "data": {
      "text/plain": [
       "location                   0\n",
       "side_a                     0\n",
       "side_a_2nd              2137\n",
       "side_b                     0\n",
       "side_b_2nd              2385\n",
       "incompatibility            0\n",
       "territory_name          1098\n",
       "cumulative_intensity       0\n",
       "type_of_conflict           0\n",
       "start_date                 0\n",
       "ep_end                     0\n",
       "ep_end_date             1981\n",
       "region                     0\n",
       "dtype: int64"
      ]
     },
     "execution_count": 30,
     "metadata": {},
     "output_type": "execute_result"
    }
   ],
   "source": [
    "conflict_df_dropped.isna().sum()"
   ]
  },
  {
   "cell_type": "code",
   "execution_count": 31,
   "id": "9b07e3cb",
   "metadata": {},
   "outputs": [
    {
     "data": {
      "text/plain": [
       "3             1007\n",
       "4              793\n",
       "2              357\n",
       "5              195\n",
       "1              142\n",
       "1, 3             4\n",
       "1, 2             4\n",
       "1, 5             1\n",
       "1, 4             1\n",
       "1, 3, 5          1\n",
       "1, 2, 3, 5       1\n",
       "Name: region, dtype: int64"
      ]
     },
     "execution_count": 31,
     "metadata": {},
     "output_type": "execute_result"
    }
   ],
   "source": [
    "conflict_df_dropped.region.value_counts()"
   ]
  },
  {
   "cell_type": "code",
   "execution_count": 32,
   "id": "0544c3ac",
   "metadata": {},
   "outputs": [],
   "source": [
    "path = os.path.join('Resources', 'cleaned_conflict_1.csv')\n",
    "conflict_df_dropped.to_csv(path)"
   ]
  },
  {
   "cell_type": "code",
   "execution_count": 23,
   "id": "cdf90fee",
   "metadata": {},
   "outputs": [
    {
     "data": {
      "text/html": [
       "<div>\n",
       "<style scoped>\n",
       "    .dataframe tbody tr th:only-of-type {\n",
       "        vertical-align: middle;\n",
       "    }\n",
       "\n",
       "    .dataframe tbody tr th {\n",
       "        vertical-align: top;\n",
       "    }\n",
       "\n",
       "    .dataframe thead th {\n",
       "        text-align: right;\n",
       "    }\n",
       "</style>\n",
       "<table border=\"1\" class=\"dataframe\">\n",
       "  <thead>\n",
       "    <tr style=\"text-align: right;\">\n",
       "      <th></th>\n",
       "      <th>location</th>\n",
       "      <th>side_a</th>\n",
       "      <th>side_a_2nd</th>\n",
       "      <th>side_b</th>\n",
       "      <th>side_b_2nd</th>\n",
       "      <th>incompatibility</th>\n",
       "      <th>territory_name</th>\n",
       "      <th>cumulative_intensity</th>\n",
       "      <th>type_of_conflict</th>\n",
       "      <th>start_date</th>\n",
       "      <th>ep_end</th>\n",
       "      <th>ep_end_date</th>\n",
       "      <th>region</th>\n",
       "    </tr>\n",
       "    <tr>\n",
       "      <th>row</th>\n",
       "      <th></th>\n",
       "      <th></th>\n",
       "      <th></th>\n",
       "      <th></th>\n",
       "      <th></th>\n",
       "      <th></th>\n",
       "      <th></th>\n",
       "      <th></th>\n",
       "      <th></th>\n",
       "      <th></th>\n",
       "      <th></th>\n",
       "      <th></th>\n",
       "      <th></th>\n",
       "    </tr>\n",
       "  </thead>\n",
       "  <tbody>\n",
       "    <tr>\n",
       "      <th>0</th>\n",
       "      <td>India</td>\n",
       "      <td>Government of India</td>\n",
       "      <td>NaN</td>\n",
       "      <td>GNLA</td>\n",
       "      <td>NaN</td>\n",
       "      <td>1</td>\n",
       "      <td>Garoland</td>\n",
       "      <td>0</td>\n",
       "      <td>3</td>\n",
       "      <td>1997-05-29</td>\n",
       "      <td>1</td>\n",
       "      <td>2012-12-21</td>\n",
       "      <td>3</td>\n",
       "    </tr>\n",
       "  </tbody>\n",
       "</table>\n",
       "</div>"
      ],
      "text/plain": [
       "    location               side_a side_a_2nd side_b side_b_2nd  \\\n",
       "row                                                              \n",
       "0      India  Government of India        NaN   GNLA        NaN   \n",
       "\n",
       "     incompatibility territory_name  cumulative_intensity  type_of_conflict  \\\n",
       "row                                                                           \n",
       "0                  1       Garoland                     0                 3   \n",
       "\n",
       "    start_date  ep_end ep_end_date region  \n",
       "row                                        \n",
       "0   1997-05-29       1  2012-12-21      3  "
      ]
     },
     "execution_count": 23,
     "metadata": {},
     "output_type": "execute_result"
    }
   ],
   "source": [
    "conflict_df_dropped.iloc[[0]]"
   ]
  },
  {
   "cell_type": "code",
   "execution_count": null,
   "id": "0efff5f3",
   "metadata": {},
   "outputs": [],
   "source": []
  }
 ],
 "metadata": {
  "kernelspec": {
   "display_name": "mlenv",
   "language": "python",
   "name": "mlenv"
  },
  "language_info": {
   "codemirror_mode": {
    "name": "ipython",
    "version": 3
   },
   "file_extension": ".py",
   "mimetype": "text/x-python",
   "name": "python",
   "nbconvert_exporter": "python",
   "pygments_lexer": "ipython3",
   "version": "3.7.12"
  }
 },
 "nbformat": 4,
 "nbformat_minor": 5
}
