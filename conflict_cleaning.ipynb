{
 "cells": [
  {
   "cell_type": "code",
   "execution_count": 1,
   "id": "1e0c2b6d",
   "metadata": {},
   "outputs": [],
   "source": [
    "import pandas as pd\n",
    "import os"
   ]
  },
  {
   "cell_type": "code",
   "execution_count": 2,
   "id": "e698e242",
   "metadata": {},
   "outputs": [],
   "source": [
    "path = os.path.join('Resources','War_dataset.xlsx')\n",
    "conflict_df = pd.read_excel(path, header = 1)"
   ]
  },
  {
   "cell_type": "code",
   "execution_count": 3,
   "id": "5af422cd",
   "metadata": {},
   "outputs": [],
   "source": [
    "# List of columns to drop from the war_df\n",
    "drop_columns = [\n",
    "    'conflict_id',\n",
    "    'year',\n",
    "    'side_a_id',\n",
    "    'side_b_id',\n",
    "    'gwno_a',\n",
    "    'gwno_a_2nd',\n",
    "    'gwno_b',\n",
    "    'gwno_b_2nd',\n",
    "    'gwno_loc',\n",
    "    'start_prec',\n",
    "    'version',\n",
    "    'intensity_level',\n",
    "    'start_prec2',\n",
    "    'ep_end_prec',\n",
    "    'ep_end_date'\n",
    "]"
   ]
  },
  {
   "cell_type": "code",
   "execution_count": 4,
   "id": "bc78eecc",
   "metadata": {},
   "outputs": [],
   "source": [
    "conflict_df_dropped = conflict_df.drop(columns = drop_columns)"
   ]
  },
  {
   "cell_type": "code",
   "execution_count": 5,
   "id": "f226937c",
   "metadata": {},
   "outputs": [
    {
     "data": {
      "text/plain": [
       "Index(['location', 'side_a', 'side_a_2nd', 'side_b', 'side_b_2nd',\n",
       "       'incompatibility', 'territory_name', 'cumulative_intensity',\n",
       "       'type_of_conflict', 'start_date', 'start_date2', 'ep_end', 'region'],\n",
       "      dtype='object')"
      ]
     },
     "execution_count": 5,
     "metadata": {},
     "output_type": "execute_result"
    }
   ],
   "source": [
    "conflict_df_dropped.columns"
   ]
  },
  {
   "cell_type": "code",
   "execution_count": 6,
   "id": "167fdcea",
   "metadata": {},
   "outputs": [
    {
     "data": {
      "text/plain": [
       "location                        object\n",
       "side_a                          object\n",
       "side_a_2nd                      object\n",
       "side_b                          object\n",
       "side_b_2nd                      object\n",
       "incompatibility                  int64\n",
       "territory_name                  object\n",
       "cumulative_intensity             int64\n",
       "type_of_conflict                 int64\n",
       "start_date              datetime64[ns]\n",
       "start_date2             datetime64[ns]\n",
       "ep_end                           int64\n",
       "region                          object\n",
       "dtype: object"
      ]
     },
     "execution_count": 6,
     "metadata": {},
     "output_type": "execute_result"
    }
   ],
   "source": [
    "conflict_df_dropped.dtypes"
   ]
  },
  {
   "cell_type": "code",
   "execution_count": 7,
   "id": "4b2cbdd5",
   "metadata": {},
   "outputs": [
    {
     "data": {
      "text/plain": [
       "location                   0\n",
       "side_a                     0\n",
       "side_a_2nd              2137\n",
       "side_b                     0\n",
       "side_b_2nd              2385\n",
       "incompatibility            0\n",
       "territory_name          1098\n",
       "cumulative_intensity       0\n",
       "type_of_conflict           0\n",
       "start_date                 0\n",
       "start_date2                0\n",
       "ep_end                     0\n",
       "region                     0\n",
       "dtype: int64"
      ]
     },
     "execution_count": 7,
     "metadata": {},
     "output_type": "execute_result"
    }
   ],
   "source": [
    "conflict_df_dropped.isna().sum()"
   ]
  },
  {
   "cell_type": "code",
   "execution_count": 8,
   "id": "9b07e3cb",
   "metadata": {},
   "outputs": [
    {
     "data": {
      "text/plain": [
       "3             1007\n",
       "4              793\n",
       "2              357\n",
       "5              195\n",
       "1              142\n",
       "1, 3             4\n",
       "1, 2             4\n",
       "1, 5             1\n",
       "1, 4             1\n",
       "1, 3, 5          1\n",
       "1, 2, 3, 5       1\n",
       "Name: region, dtype: int64"
      ]
     },
     "execution_count": 8,
     "metadata": {},
     "output_type": "execute_result"
    }
   ],
   "source": [
    "conflict_df_dropped.region.value_counts()"
   ]
  },
  {
   "cell_type": "code",
   "execution_count": 9,
   "id": "0544c3ac",
   "metadata": {},
   "outputs": [],
   "source": [
    "path = os.path.join('Resources', 'cleaned_conflict_1.csv')\n",
    "conflict_df_dropped.to_csv(path, index = False)"
   ]
  },
  {
   "cell_type": "code",
   "execution_count": 10,
   "id": "04bd3ae5",
   "metadata": {},
   "outputs": [],
   "source": [
    "from sqlalchemy import create_engine\n",
    "import psycopg2"
   ]
  },
  {
   "cell_type": "code",
   "execution_count": 12,
   "id": "12c752c7",
   "metadata": {},
   "outputs": [],
   "source": [
    "from config import username, pwd\n",
    "endpoint = 'database-1.cp0sytup8326.us-east-1.rds.amazonaws.com'\n",
    "port = 5432\n",
    "db_name = 'project_db'\n",
    "db_url = f'postgresql://{username}:{pwd}@{endpoint}:{port}/{db_name}'"
   ]
  },
  {
   "cell_type": "code",
   "execution_count": 21,
   "id": "f9297e57",
   "metadata": {},
   "outputs": [],
   "source": [
    "engine = create_engine(db_url)"
   ]
  },
  {
   "cell_type": "code",
   "execution_count": 22,
   "id": "060500df",
   "metadata": {},
   "outputs": [],
   "source": [
    "conn = engine.connect()"
   ]
  },
  {
   "cell_type": "code",
   "execution_count": 23,
   "id": "b94fa0cb",
   "metadata": {},
   "outputs": [],
   "source": [
    "conflict_df_dropped.to_sql(name = 'conflict_dropped', con = engine, if_exists = 'replace')"
   ]
  },
  {
   "cell_type": "code",
   "execution_count": 24,
   "id": "c0063735",
   "metadata": {},
   "outputs": [],
   "source": [
    "conn.close()"
   ]
  }
 ],
 "metadata": {
  "kernelspec": {
   "display_name": "mlenv",
   "language": "python",
   "name": "mlenv"
  },
  "language_info": {
   "codemirror_mode": {
    "name": "ipython",
    "version": 3
   },
   "file_extension": ".py",
   "mimetype": "text/x-python",
   "name": "python",
   "nbconvert_exporter": "python",
   "pygments_lexer": "ipython3",
   "version": "3.7.12"
  }
 },
 "nbformat": 4,
 "nbformat_minor": 5
}
