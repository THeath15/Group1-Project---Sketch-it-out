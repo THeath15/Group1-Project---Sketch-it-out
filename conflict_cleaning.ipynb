{
 "cells": [
  {
   "cell_type": "code",
   "execution_count": 14,
   "id": "1e0c2b6d",
   "metadata": {},
   "outputs": [],
   "source": [
    "import pandas as pd\n",
    "import os"
   ]
  },
  {
   "cell_type": "code",
   "execution_count": 15,
   "id": "e698e242",
   "metadata": {},
   "outputs": [],
   "source": [
    "path = os.path.join('Resources','War_dataset.xlsx')\n",
    "conflict_df = pd.read_excel(path, header = 1)"
   ]
  },
  {
   "cell_type": "code",
   "execution_count": 33,
   "id": "5af422cd",
   "metadata": {},
   "outputs": [],
   "source": [
    "# List of columns to drop from the war_df\n",
    "drop_columns = [\n",
    "    'conflict_id',\n",
    "    'year',\n",
    "    'side_a_id',\n",
    "    'side_b_id',\n",
    "    'gwno_a',\n",
    "    'gwno_a_2nd',\n",
    "    'gwno_b',\n",
    "    'gwno_b_2nd',\n",
    "    'gwno_loc',\n",
    "    'start_prec',\n",
    "    'version',\n",
    "    'intensity_level',\n",
    "    'start_date2',\n",
    "    'start_prec2'\n",
    "]"
   ]
  },
  {
   "cell_type": "code",
   "execution_count": 34,
   "id": "bc78eecc",
   "metadata": {},
   "outputs": [],
   "source": [
    "conflict_df_dropped = conflict_df.drop(columns = drop_columns)"
   ]
  },
  {
   "cell_type": "code",
   "execution_count": 35,
   "id": "f226937c",
   "metadata": {},
   "outputs": [
    {
     "data": {
      "text/plain": [
       "Index(['location', 'side_a', 'side_a_2nd', 'side_b', 'side_b_2nd',\n",
       "       'incompatibility', 'territory_name', 'cumulative_intensity',\n",
       "       'type_of_conflict', 'start_date', 'ep_end', 'ep_end_date',\n",
       "       'ep_end_prec', 'region'],\n",
       "      dtype='object')"
      ]
     },
     "execution_count": 35,
     "metadata": {},
     "output_type": "execute_result"
    }
   ],
   "source": [
    "conflict_df_dropped.columns"
   ]
  },
  {
   "cell_type": "code",
   "execution_count": 29,
   "id": "167fdcea",
   "metadata": {},
   "outputs": [
    {
     "data": {
      "text/plain": [
       "Islamic State    89\n",
       "Kurdistan        87\n",
       "Palestine        66\n",
       "Karen            61\n",
       "Kashmir          58\n",
       "                 ..\n",
       "Lake Chad         1\n",
       "Korfu Channel     1\n",
       "Slovenia          1\n",
       "Taiwan            1\n",
       "Somaliland        1\n",
       "Name: territory_name, Length: 141, dtype: int64"
      ]
     },
     "execution_count": 29,
     "metadata": {},
     "output_type": "execute_result"
    }
   ],
   "source": [
    "conflict_df_dropped.territory_name.value_counts()"
   ]
  },
  {
   "cell_type": "code",
   "execution_count": null,
   "id": "4b2cbdd5",
   "metadata": {},
   "outputs": [],
   "source": []
  }
 ],
 "metadata": {
  "kernelspec": {
   "display_name": "mlenv",
   "language": "python",
   "name": "mlenv"
  },
  "language_info": {
   "codemirror_mode": {
    "name": "ipython",
    "version": 3
   },
   "file_extension": ".py",
   "mimetype": "text/x-python",
   "name": "python",
   "nbconvert_exporter": "python",
   "pygments_lexer": "ipython3",
   "version": "3.7.12"
  }
 },
 "nbformat": 4,
 "nbformat_minor": 5
}
